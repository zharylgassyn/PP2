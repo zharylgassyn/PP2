{
 "cells": [
  {
   "cell_type": "code",
   "execution_count": 4,
   "metadata": {},
   "outputs": [
    {
     "name": "stdout",
     "output_type": "stream",
     "text": [
      "Directories:\n",
      "[]\n",
      "Files:\n",
      "['builtin-functions.ipynb', 'dir_and_files.ipynb']\n",
      "All:\n",
      "['builtin-functions.ipynb', 'dir_and_files.ipynb']\n"
     ]
    }
   ],
   "source": [
    "import os\n",
    "\n",
    "path = \"C:\\\\Users\\\\ПК\\\\Desktop\\\\pp2\\\\lab6\" \n",
    "\n",
    "print(\"Directories:\")\n",
    "print([d for d in os.listdir(path) if os.path.isdir(os.path.join(path, d))])\n",
    "\n",
    "print(\"Files:\")\n",
    "print([f for f in os.listdir(path) if os.path.isfile(os.path.join(path, f))])\n",
    "\n",
    "print(\"All:\")\n",
    "print(os.listdir(path))"
   ]
  },
  {
   "cell_type": "code",
   "execution_count": 5,
   "metadata": {},
   "outputs": [
    {
     "name": "stdout",
     "output_type": "stream",
     "text": [
      "Exists: True\n",
      "Readable: True\n",
      "Writable: True\n",
      "Executable: True\n"
     ]
    }
   ],
   "source": [
    "import os\n",
    "\n",
    "path = \"C:\\\\Users\\\\ПК\\\\Desktop\\\\pp2\"  \n",
    "\n",
    "print(\"Exists:\", os.path.exists(path))\n",
    "print(\"Readable:\", os.access(path, os.R_OK))\n",
    "print(\"Writable:\", os.access(path, os.W_OK))\n",
    "print(\"Executable:\", os.access(path, os.X_OK))"
   ]
  },
  {
   "cell_type": "code",
   "execution_count": 6,
   "metadata": {},
   "outputs": [
    {
     "name": "stdout",
     "output_type": "stream",
     "text": [
      "Name: pp2\n",
      "Directory: C:\\Users\\ПК\\Desktop\n"
     ]
    }
   ],
   "source": [
    "import os\n",
    "\n",
    "path = \"C:\\\\Users\\\\ПК\\\\Desktop\\\\pp2\"  \n",
    "\n",
    "if os.path.exists(path):\n",
    "    print(\"Name:\", os.path.basename(path))\n",
    "    print(\"Directory:\", os.path.dirname(path))\n",
    "else:\n",
    "    print(\"Path does not exist.\")"
   ]
  },
  {
   "cell_type": "code",
   "execution_count": 8,
   "metadata": {},
   "outputs": [
    {
     "name": "stdout",
     "output_type": "stream",
     "text": [
      "2\n"
     ]
    }
   ],
   "source": [
    "path = \"C:\\\\Users\\\\ПК\\\\Desktop\\\\pp2\\\\lab6\\\\check.txt\" \n",
    "\n",
    "with open(path, \"r\") as file:\n",
    "    line_count = sum(1 for _ in file)\n",
    "    \n",
    "print(line_count)"
   ]
  },
  {
   "cell_type": "code",
   "execution_count": 9,
   "metadata": {},
   "outputs": [],
   "source": [
    "data = [\"Hello\", \"world\"]\n",
    "path = \"C:\\\\Users\\\\ПК\\\\Desktop\\\\pp2\\\\lab6\\\\check.txt\"\n",
    "with open(path, \"w\") as file:\n",
    "    for item in data:\n",
    "        file.write(item + \"\\n\")"
   ]
  },
  {
   "cell_type": "code",
   "execution_count": 10,
   "metadata": {},
   "outputs": [],
   "source": [
    "import os\n",
    "import string\n",
    "path = \"C:\\\\Users\\\\ПК\\\\Desktop\\\\pp2\\\\lab6\\\\test\"\n",
    "os.makedirs(path, exist_ok=True)\n",
    "for letter in string.ascii_uppercase:\n",
    "    file_path = os.path.join(path, f\"{letter}.txt\")\n",
    "    with open(file_path, \"w\") as file:\n",
    "        file.write(f\"This is {letter}\")"
   ]
  },
  {
   "cell_type": "code",
   "execution_count": 11,
   "metadata": {},
   "outputs": [],
   "source": [
    "source = \"C:\\\\Users\\\\ПК\\\\Desktop\\\\pp2\\\\lab6\\\\check.txt\"\n",
    "destination = \"C:\\\\Users\\\\ПК\\\\Desktop\\\\pp2\\\\lab6\\\\test\\\\B.txt\"\n",
    "\n",
    "with open(source, \"r\") as src, open(destination, \"w\") as dest:\n",
    "    dest.write(src.read())"
   ]
  },
  {
   "cell_type": "code",
   "execution_count": 12,
   "metadata": {},
   "outputs": [
    {
     "name": "stdout",
     "output_type": "stream",
     "text": [
      "File deleted.\n"
     ]
    }
   ],
   "source": [
    "import os\n",
    "\n",
    "path = \"C:\\\\Users\\\\ПК\\\\Desktop\\\\pp2\\\\lab6\\\\test\\\\D.txt\"\n",
    "\n",
    "if os.path.exists(path) and os.access(path, os.W_OK):\n",
    "    os.remove(path)\n",
    "    print(\"File deleted.\")\n",
    "else:\n",
    "    print(\"File does not exist or no access\")"
   ]
  }
 ],
 "metadata": {
  "kernelspec": {
   "display_name": "Python 3",
   "language": "python",
   "name": "python3"
  },
  "language_info": {
   "codemirror_mode": {
    "name": "ipython",
    "version": 3
   },
   "file_extension": ".py",
   "mimetype": "text/x-python",
   "name": "python",
   "nbconvert_exporter": "python",
   "pygments_lexer": "ipython3",
   "version": "3.12.1"
  }
 },
 "nbformat": 4,
 "nbformat_minor": 2
}
