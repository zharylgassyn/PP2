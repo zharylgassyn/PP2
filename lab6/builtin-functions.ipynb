{
 "cells": [
  {
   "cell_type": "code",
   "execution_count": null,
   "metadata": {},
   "outputs": [],
   "source": [
    "import math\n",
    "a = [1,2,3,4,5]\n",
    "print(math.prod(a))"
   ]
  },
  {
   "cell_type": "code",
   "execution_count": null,
   "metadata": {},
   "outputs": [],
   "source": [
    "import re\n",
    "txt = \"dhsajKLD HasKd hkalsj dhlaksJdh kaJSLDHlkASJDHsakL\"\n",
    "l = len(re.findall(\"[a-z]\", txt))\n",
    "u = len(re.findall(\"[A-Z]\", txt))\n",
    "print(\"Uppercase:\", u, \"Lowercase:\", l)"
   ]
  },
  {
   "cell_type": "code",
   "execution_count": 4,
   "metadata": {},
   "outputs": [
    {
     "name": "stdout",
     "output_type": "stream",
     "text": [
      "False\n"
     ]
    }
   ],
   "source": [
    "text = \"madm\"\n",
    "print(text == text[::-1])"
   ]
  },
  {
   "cell_type": "code",
   "execution_count": 13,
   "metadata": {},
   "outputs": [
    {
     "name": "stdout",
     "output_type": "stream",
     "text": [
      "158.42979517754858\n"
     ]
    }
   ],
   "source": [
    "import time\n",
    "import math\n",
    "num = 25100\n",
    "delay = 2123\n",
    "time.sleep(delay / 1000) \n",
    "print(math.sqrt(num))"
   ]
  },
  {
   "cell_type": "code",
   "execution_count": 7,
   "metadata": {},
   "outputs": [
    {
     "name": "stdout",
     "output_type": "stream",
     "text": [
      "False\n"
     ]
    }
   ],
   "source": [
    "t = (True, True, 0)\n",
    "print(all(t))"
   ]
  }
 ],
 "metadata": {
  "kernelspec": {
   "display_name": "Python 3",
   "language": "python",
   "name": "python3"
  },
  "language_info": {
   "codemirror_mode": {
    "name": "ipython",
    "version": 3
   },
   "file_extension": ".py",
   "mimetype": "text/x-python",
   "name": "python",
   "nbconvert_exporter": "python",
   "pygments_lexer": "ipython3",
   "version": "3.12.1"
  }
 },
 "nbformat": 4,
 "nbformat_minor": 2
}
