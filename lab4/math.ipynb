{
 "cells": [
  {
   "cell_type": "code",
   "execution_count": null,
   "metadata": {},
   "outputs": [],
   "source": [
    "import math\n",
    "\n",
    "degree = float(input(\"enter: \"))\n",
    "radian = math.radians(degree)\n",
    "print(round(radian, 6))"
   ]
  },
  {
   "cell_type": "code",
   "execution_count": null,
   "metadata": {},
   "outputs": [],
   "source": [
    "h = float(input(\"h: \"))\n",
    "a = float(input(\"a: \"))\n",
    "b = float(input(\"b: \"))\n",
    "\n",
    "area = ((a + b) / 2) * h\n",
    "print(area)"
   ]
  },
  {
   "cell_type": "code",
   "execution_count": null,
   "metadata": {},
   "outputs": [],
   "source": [
    "import math\n",
    "\n",
    "n = int(input(\"enter n: \"))\n",
    "l = float(input(\"enter l: \"))\n",
    "\n",
    "area = (n * l**2) / (4 * math.tan(math.pi / n))\n",
    "print(round(area, 2))"
   ]
  },
  {
   "cell_type": "code",
   "execution_count": null,
   "metadata": {},
   "outputs": [],
   "source": [
    "b = float(input(\"enter b: \"))\n",
    "h = float(input(\"enter h: \"))\n",
    "\n",
    "area = b * h\n",
    "print(area)"
   ]
  }
 ],
 "metadata": {
  "language_info": {
   "name": "python"
  }
 },
 "nbformat": 4,
 "nbformat_minor": 2
}
